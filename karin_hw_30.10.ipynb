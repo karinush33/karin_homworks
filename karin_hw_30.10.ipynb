{
 "cells": [
  {
   "cell_type": "code",
   "execution_count": 2,
   "id": "3de0c719-b4dd-4dba-b5b9-67d387671b19",
   "metadata": {},
   "outputs": [
    {
     "name": "stdout",
     "output_type": "stream",
     "text": [
      "Collecting seaborn\n",
      "  Downloading seaborn-0.13.2-py3-none-any.whl.metadata (5.4 kB)\n",
      "Requirement already satisfied: numpy!=1.24.0,>=1.20 in c:\\users\\karin\\appdata\\local\\programs\\python\\python311\\lib\\site-packages (from seaborn) (2.3.3)\n",
      "Requirement already satisfied: pandas>=1.2 in c:\\users\\karin\\appdata\\local\\programs\\python\\python311\\lib\\site-packages (from seaborn) (2.3.2)\n",
      "Requirement already satisfied: matplotlib!=3.6.1,>=3.4 in c:\\users\\karin\\appdata\\local\\programs\\python\\python311\\lib\\site-packages (from seaborn) (3.10.6)\n",
      "Requirement already satisfied: contourpy>=1.0.1 in c:\\users\\karin\\appdata\\local\\programs\\python\\python311\\lib\\site-packages (from matplotlib!=3.6.1,>=3.4->seaborn) (1.3.3)\n",
      "Requirement already satisfied: cycler>=0.10 in c:\\users\\karin\\appdata\\local\\programs\\python\\python311\\lib\\site-packages (from matplotlib!=3.6.1,>=3.4->seaborn) (0.12.1)\n",
      "Requirement already satisfied: fonttools>=4.22.0 in c:\\users\\karin\\appdata\\local\\programs\\python\\python311\\lib\\site-packages (from matplotlib!=3.6.1,>=3.4->seaborn) (4.60.0)\n",
      "Requirement already satisfied: kiwisolver>=1.3.1 in c:\\users\\karin\\appdata\\local\\programs\\python\\python311\\lib\\site-packages (from matplotlib!=3.6.1,>=3.4->seaborn) (1.4.9)\n",
      "Requirement already satisfied: packaging>=20.0 in c:\\users\\karin\\appdata\\local\\programs\\python\\python311\\lib\\site-packages (from matplotlib!=3.6.1,>=3.4->seaborn) (25.0)\n",
      "Requirement already satisfied: pillow>=8 in c:\\users\\karin\\appdata\\local\\programs\\python\\python311\\lib\\site-packages (from matplotlib!=3.6.1,>=3.4->seaborn) (11.3.0)\n",
      "Requirement already satisfied: pyparsing>=2.3.1 in c:\\users\\karin\\appdata\\local\\programs\\python\\python311\\lib\\site-packages (from matplotlib!=3.6.1,>=3.4->seaborn) (3.2.5)\n",
      "Requirement already satisfied: python-dateutil>=2.7 in c:\\users\\karin\\appdata\\local\\programs\\python\\python311\\lib\\site-packages (from matplotlib!=3.6.1,>=3.4->seaborn) (2.9.0.post0)\n",
      "Requirement already satisfied: pytz>=2020.1 in c:\\users\\karin\\appdata\\local\\programs\\python\\python311\\lib\\site-packages (from pandas>=1.2->seaborn) (2025.2)\n",
      "Requirement already satisfied: tzdata>=2022.7 in c:\\users\\karin\\appdata\\local\\programs\\python\\python311\\lib\\site-packages (from pandas>=1.2->seaborn) (2025.2)\n",
      "Requirement already satisfied: six>=1.5 in c:\\users\\karin\\appdata\\local\\programs\\python\\python311\\lib\\site-packages (from python-dateutil>=2.7->matplotlib!=3.6.1,>=3.4->seaborn) (1.17.0)\n",
      "Downloading seaborn-0.13.2-py3-none-any.whl (294 kB)\n",
      "   ---------------------------------------- 0.0/294.9 kB ? eta -:--:--\n",
      "   ---- ----------------------------------- 30.7/294.9 kB ? eta -:--:--\n",
      "   ------------ --------------------------- 92.2/294.9 kB 1.1 MB/s eta 0:00:01\n",
      "   ------------------------------ --------- 225.3/294.9 kB 1.5 MB/s eta 0:00:01\n",
      "   -------------------------------------- - 286.7/294.9 kB 1.6 MB/s eta 0:00:01\n",
      "   -------------------------------------- - 286.7/294.9 kB 1.6 MB/s eta 0:00:01\n",
      "   -------------------------------------- - 286.7/294.9 kB 1.6 MB/s eta 0:00:01\n",
      "   -------------------------------------- - 286.7/294.9 kB 1.6 MB/s eta 0:00:01\n",
      "   -------------------------------------- 294.9/294.9 kB 827.5 kB/s eta 0:00:00\n",
      "Installing collected packages: seaborn\n",
      "Successfully installed seaborn-0.13.2\n"
     ]
    },
    {
     "name": "stderr",
     "output_type": "stream",
     "text": [
      "\n",
      "[notice] A new release of pip is available: 24.0 -> 25.3\n",
      "[notice] To update, run: python.exe -m pip install --upgrade pip\n"
     ]
    }
   ],
   "source": [
    "!pip install seaborn\n"
   ]
  },
  {
   "cell_type": "code",
   "execution_count": 7,
   "id": "2ab48a10-acbb-4f8f-8a93-4e3fc0afd600",
   "metadata": {},
   "outputs": [],
   "source": [
    "import pandas as pd\n",
    "import numpy as np\n",
    "import matplotlib.pyplot as plt\n",
    "import seaborn as sns\n",
    "from IPython.display import display"
   ]
  },
  {
   "cell_type": "code",
   "execution_count": 4,
   "id": "f7e94ab9-b9f6-4a12-bade-359c5ba0453c",
   "metadata": {},
   "outputs": [
    {
     "name": "stdout",
     "output_type": "stream",
     "text": [
      "0.6700000000000134 4.699999999999948 56\n"
     ]
    }
   ],
   "source": [
    "import math\n",
    "import numpy as np \n",
    "\n",
    "x = np.arange(0,9)\n",
    "\n",
    "min_mean_error = None \n",
    "a_min = None \n",
    "b_min = None \n",
    "\n",
    "for a in np.arange(-10, 10, 0.1):\n",
    "    for b in np.arange(-100, 100, 1):\n",
    "        \n",
    "        def f1(x):\n",
    "            return a*x +b\n",
    "            \n",
    "        y1 = f1(x)\n",
    "        \n",
    "        X = np.array([1,2,3,4,5,6,7,8])\n",
    "        Y = np.array([60,65,70,75,80,85,90,92])\n",
    "            \n",
    "       \n",
    "        error = []\n",
    "        for i in range (len(X)):\n",
    "            error_i = math.pow(Y[i] - f1(X[i]),2)\n",
    "            error.append(error_i)\n",
    "        error_mean = sum(error)/len(error)\n",
    "\n",
    "        if min_mean_error == None or error_mean < min_mean_error:\n",
    "            min_mean_error = error_mean\n",
    "            a_min = a\n",
    "            b_min = b\n",
    "            \n",
    "print(min_mean_error,a_min,b_min)"
   ]
  },
  {
   "cell_type": "code",
   "execution_count": 8,
   "id": "cf1bc998-51f4-4754-b382-6bd2ecf3ff57",
   "metadata": {},
   "outputs": [
    {
     "name": "stdout",
     "output_type": "stream",
     "text": [
      "0.9550000000000062\n"
     ]
    },
    {
     "data": {
      "image/png": "[encoded data removed]",
      "text/plain": [
       "<Figure size 640x480 with 1 Axes>"
      ]
     },
     "metadata": {},
     "output_type": "display_data"
    }
   ],
   "source": [
    "import math\n",
    "import numpy as np \n",
    "\n",
    "x = np.arange(0,9)\n",
    "\n",
    "def f1(x):\n",
    "    return 4.6*x +56\n",
    "    \n",
    "y1 = f1(x)\n",
    "\n",
    "X = np.array([1,2,3,4,5,6,7,8])\n",
    "Y = np.array([60,65,70,75,80,85,90,92])\n",
    "\n",
    "count = 0\n",
    "for i in range (len(X)):\n",
    "    plt.scatter(X[i],Y[i]) \n",
    "    \n",
    "\n",
    "error = []\n",
    "for i in range (len(X)):\n",
    "    error_i = math.pow(Y[i] - f1(X[i]),2) \n",
    "    error.append(error_i)\n",
    "error_mean = sum(error)/len(error)\n",
    "\n",
    "print(error_mean)\n",
    "\n",
    "plt.axhline(0, color='black', linewidth=0.8, linestyle=\"--\")  \n",
    "plt.axvline(0, color='black', linewidth=0.8, linestyle=\"--\")  \n",
    "plt.plot(x,y1, label = \"y =  4.6x + 56\")\n",
    "\n",
    "plt.grid(color='gray', linestyle='--', linewidth=0.5)\n",
    "plt.legend()\n",
    "\n",
    "plt.show()"
   ]
  },
  {
   "cell_type": "code",
   "execution_count": 10,
   "id": "3b26787f-e508-4e4f-b181-34b83f61c482",
   "metadata": {},
   "outputs": [
    {
     "name": "stdout",
     "output_type": "stream",
     "text": [
      "Collecting scikit-learn\n",
      "  Downloading scikit_learn-1.7.2-cp311-cp311-win_amd64.whl.metadata (11 kB)\n",
      "Requirement already satisfied: numpy>=1.22.0 in c:\\users\\karin\\appdata\\local\\programs\\python\\python311\\lib\\site-packages (from scikit-learn) (2.3.3)\n",
      "Collecting scipy>=1.8.0 (from scikit-learn)\n",
      "  Downloading scipy-1.16.3-cp311-cp311-win_amd64.whl.metadata (60 kB)\n",
      "     ---------------------------------------- 0.0/60.8 kB ? eta -:--:--\n",
      "     ---------------------------------------- 0.0/60.8 kB ? eta -:--:--\n",
      "     ------ --------------------------------- 10.2/60.8 kB ? eta -:--:--\n",
      "     ------------------- ------------------ 30.7/60.8 kB 325.1 kB/s eta 0:00:01\n",
      "     ------------------------------- ------ 51.2/60.8 kB 372.4 kB/s eta 0:00:01\n",
      "     -------------------------------------- 60.8/60.8 kB 358.7 kB/s eta 0:00:00\n",
      "Collecting joblib>=1.2.0 (from scikit-learn)\n",
      "  Downloading joblib-1.5.2-py3-none-any.whl.metadata (5.6 kB)\n",
      "Collecting threadpoolctl>=3.1.0 (from scikit-learn)\n",
      "  Downloading threadpoolctl-3.6.0-py3-none-any.whl.metadata (13 kB)\n",
      "Downloading scikit_learn-1.7.2-cp311-cp311-win_amd64.whl (8.9 MB)\n",
      "   ---------------------------------------- 0.0/8.9 MB ? eta -:--:--\n",
      "   ---------------------------------------- 0.0/8.9 MB ? eta -:--:--\n",
      "    --------------------------------------- 0.2/8.9 MB 1.8 MB/s eta 0:00:05\n",
      "   - -------------------------------------- 0.2/8.9 MB 1.8 MB/s eta 0:00:05\n",
      "   -- ------------------------------------- 0.5/8.9 MB 2.8 MB/s eta 0:00:03\n",
      "   --- ------------------------------------ 0.9/8.9 MB 4.2 MB/s eta 0:00:02\n",
      "   ----- ---------------------------------- 1.2/8.9 MB 4.9 MB/s eta 0:00:02\n",
      "   --------- ------------------------------ 2.0/8.9 MB 7.1 MB/s eta 0:00:01\n",
      "   ----------------- ---------------------- 4.0/8.9 MB 12.0 MB/s eta 0:00:01\n",
      "   ------------------------- -------------- 5.7/8.9 MB 15.2 MB/s eta 0:00:01\n",
      "   -------------------------------- ------- 7.3/8.9 MB 18.8 MB/s eta 0:00:01\n",
      "   -------------------------------- ------- 7.3/8.9 MB 18.8 MB/s eta 0:00:01\n",
      "   -------------------------------- ------- 7.3/8.9 MB 18.8 MB/s eta 0:00:01\n",
      "   -------------------------------- ------- 7.3/8.9 MB 18.8 MB/s eta 0:00:01\n",
      "   -------------------------------- ------- 7.3/8.9 MB 18.8 MB/s eta 0:00:01\n",
      "   -------------------------------------- - 8.6/8.9 MB 13.8 MB/s eta 0:00:01\n",
      "   ---------------------------------------- 8.9/8.9 MB 13.2 MB/s eta 0:00:00\n",
      "Downloading joblib-1.5.2-py3-none-any.whl (308 kB)\n",
      "   ---------------------------------------- 0.0/308.4 kB ? eta -:--:--\n",
      "   --------------------------------------- 308.4/308.4 kB 18.6 MB/s eta 0:00:00\n",
      "Downloading scipy-1.16.3-cp311-cp311-win_amd64.whl (38.7 MB)\n",
      "   ---------------------------------------- 0.0/38.7 MB ? eta -:--:--\n",
      "   --- ------------------------------------ 3.0/38.7 MB 64.3 MB/s eta 0:00:01\n",
      "   --- ------------------------------------ 3.0/38.7 MB 64.3 MB/s eta 0:00:01\n",
      "   --- ------------------------------------ 3.0/38.7 MB 64.3 MB/s eta 0:00:01\n",
      "   --- ------------------------------------ 3.1/38.7 MB 19.5 MB/s eta 0:00:02\n",
      "   --- ------------------------------------ 3.1/38.7 MB 19.5 MB/s eta 0:00:02\n",
      "   --- ------------------------------------ 3.1/38.7 MB 19.5 MB/s eta 0:00:02\n",
      "   --- ------------------------------------ 3.1/38.7 MB 19.5 MB/s eta 0:00:02\n",
      "   --- ------------------------------------ 3.1/38.7 MB 19.5 MB/s eta 0:00:02\n",
      "   --- ------------------------------------ 3.1/38.7 MB 8.2 MB/s eta 0:00:05\n",
      "   --- ------------------------------------ 3.2/38.7 MB 7.2 MB/s eta 0:00:05\n",
      "   --- ------------------------------------ 3.2/38.7 MB 7.2 MB/s eta 0:00:05\n",
      "   --- ------------------------------------ 3.2/38.7 MB 6.5 MB/s eta 0:00:06\n",
      "   --- ------------------------------------ 3.4/38.7 MB 6.2 MB/s eta 0:00:06\n",
      "   --- ------------------------------------ 3.7/38.7 MB 6.1 MB/s eta 0:00:06\n",
      "   ---- ----------------------------------- 4.3/38.7 MB 6.4 MB/s eta 0:00:06\n",
      "   ---- ----------------------------------- 4.5/38.7 MB 6.2 MB/s eta 0:00:06\n",
      "   ----- ---------------------------------- 5.3/38.7 MB 7.1 MB/s eta 0:00:05\n",
      "   ------ --------------------------------- 6.1/38.7 MB 7.7 MB/s eta 0:00:05\n",
      "   ------- -------------------------------- 6.9/38.7 MB 8.0 MB/s eta 0:00:04\n",
      "   ------- -------------------------------- 7.3/38.7 MB 8.0 MB/s eta 0:00:04\n",
      "   -------- ------------------------------- 7.8/38.7 MB 8.2 MB/s eta 0:00:04\n",
      "   -------- ------------------------------- 8.6/38.7 MB 8.7 MB/s eta 0:00:04\n",
      "   --------- ------------------------------ 9.4/38.7 MB 8.9 MB/s eta 0:00:04\n",
      "   ---------- ----------------------------- 10.0/38.7 MB 9.1 MB/s eta 0:00:04\n",
      "   ---------- ----------------------------- 10.4/38.7 MB 9.2 MB/s eta 0:00:04\n",
      "   ----------- ---------------------------- 11.1/38.7 MB 9.0 MB/s eta 0:00:04\n",
      "   ----------- ---------------------------- 11.4/38.7 MB 8.6 MB/s eta 0:00:04\n",
      "   ------------ --------------------------- 11.7/38.7 MB 8.4 MB/s eta 0:00:04\n",
      "   --------------- ------------------------ 15.2/38.7 MB 18.7 MB/s eta 0:00:02\n",
      "   ------------------- -------------------- 19.1/38.7 MB 29.7 MB/s eta 0:00:01\n",
      "   ----------------------- ---------------- 23.1/38.7 MB 81.8 MB/s eta 0:00:01\n",
      "   -------------------------- ------------- 25.4/38.7 MB 72.6 MB/s eta 0:00:01\n",
      "   ---------------------------- ----------- 27.8/38.7 MB 65.6 MB/s eta 0:00:01\n",
      "   ------------------------------- -------- 30.9/38.7 MB 65.6 MB/s eta 0:00:01\n",
      "   ---------------------------------- ----- 33.3/38.7 MB 59.5 MB/s eta 0:00:01\n",
      "   ------------------------------------- -- 36.0/38.7 MB 59.5 MB/s eta 0:00:01\n",
      "   ---------------------------------------  38.4/38.7 MB 59.5 MB/s eta 0:00:01\n",
      "   ---------------------------------------  38.7/38.7 MB 59.5 MB/s eta 0:00:01\n",
      "   ---------------------------------------  38.7/38.7 MB 59.5 MB/s eta 0:00:01\n",
      "   ---------------------------------------- 38.7/38.7 MB 34.4 MB/s eta 0:00:00\n",
      "Downloading threadpoolctl-3.6.0-py3-none-any.whl (18 kB)\n",
      "Installing collected packages: threadpoolctl, scipy, joblib, scikit-learn\n",
      "Successfully installed joblib-1.5.2 scikit-learn-1.7.2 scipy-1.16.3 threadpoolctl-3.6.0\n"
     ]
    },
    {
     "name": "stderr",
     "output_type": "stream",
     "text": [
      "\n",
      "[notice] A new release of pip is available: 24.0 -> 25.3\n",
      "[notice] To update, run: python.exe -m pip install --upgrade pip\n"
     ]
    }
   ],
   "source": [
    "!pip install scikit-learn\n"
   ]
  },
  {
   "cell_type": "code",
   "execution_count": 13,
   "id": "bec53571-5fc3-4be0-9b6a-dcd51f1b265e",
   "metadata": {},
   "outputs": [
    {
     "name": "stdout",
     "output_type": "stream",
     "text": [
      "Slope (m): 4.75\n",
      "Intercept (b): 55.75\n",
      "Line equation: y = 4.75x + 55.75\n"
     ]
    }
   ],
   "source": [
    "\n",
    "import numpy as np\n",
    "import matplotlib.pyplot as plt\n",
    "from sklearn.linear_model import LinearRegression\n",
    "\n",
    "X = np.array([1,2,3,4,5,6,7,8]).reshape(-1, 1)  \n",
    "Y = np.array([60,65,70,75,80,85,90,92])  \n",
    "\n",
    "\n",
    "model = LinearRegression()\n",
    "model.fit(X, Y)\n",
    "\n",
    "\n",
    "print(f\"Slope (m): {model.coef_[0]:.2f}\")\n",
    "print(f\"Intercept (b): {model.intercept_:.2f}\")\n",
    "# Calculate equation\n",
    "equation = f\"y = {model.coef_[0]:.2f}x + {model.intercept_:.2f}\"\n",
    "print(f\"Line equation: {equation}\")"
   ]
  },
  {
   "cell_type": "code",
   "execution_count": null,
   "id": "ac2b3370-cdf6-4335-a0a9-51bed797571b",
   "metadata": {},
   "outputs": [],
   "source": []
  }
 ],
 "metadata": {
  "kernelspec": {
   "display_name": "Python 3 (ipykernel)",
   "language": "python",
   "name": "python3"
  },
  "language_info": {
   "codemirror_mode": {
    "name": "ipython",
    "version": 3
   },
   "file_extension": ".py",
   "mimetype": "text/x-python",
   "name": "python",
   "nbconvert_exporter": "python",
   "pygments_lexer": "ipython3",
   "version": "3.11.9"
  }
 },
 "nbformat": 4,
 "nbformat_minor": 5
}
